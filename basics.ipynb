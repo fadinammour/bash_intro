{
 "cells": [
  {
   "cell_type": "markdown",
   "metadata": {},
   "source": [
    "# Bash and Scripting Tutorial for Researchers\n",
    "\n",
    "The goal of this tutorial is to introduce researchers to bash and scripting. It is a short tutorial that shows major concepts with use cases related to research work.\n",
    "\n",
    "## Table of Contents\n",
    "1. [Introduction](#indtroduction)\n",
    "2. [Basics](#basics)\n",
    "3. [Pipeline, pipes and filters](./pipeline.ipynb)\n",
    "4. [Bash Scripts](./scripting.ipynb)\n",
    "5. [Variables](./variables.ipynb)\n",
    "6. [Advanced](advanced)\n",
    "7. [Acknowledgements](./README.md#acknowledgement)\n",
    "8. [Resources](./README.md#resources)"
   ]
  },
  {
   "cell_type": "markdown",
   "metadata": {},
   "source": [
    "## Introduction\n",
    "\n",
    "## I. Basics\n",
    "\n",
    "## II. Pipeline, Pipes and Filters\n",
    "\n",
    "## III. Bash Scripts\n",
    "\n",
    "## IV. Variables\n",
    "\n",
    "## V. Advanced\n",
    "\n",
    "### 1. Aliases\n",
    "### 2. Bash Profile\n",
    "### 3. Screening\n",
    "### 4. SSH Port Forwarding for Distant Jupyter Notebooks\n",
    "\n",
    "## Acknowledgements\n",
    "\n",
    "## Resources\n",
    "[← Previous section](./README.md) <div style=\"text-align: right\"> [Next section →](./basics.ipynb) </div>\n"
   ]
  },
  {
   "cell_type": "code",
   "execution_count": null,
   "metadata": {},
   "outputs": [],
   "source": [
    "screen &"
   ]
  },
  {
   "cell_type": "code",
   "execution_count": null,
   "metadata": {},
   "outputs": [],
   "source": [
    "touch smthg.txt &"
   ]
  },
  {
   "cell_type": "code",
   "execution_count": null,
   "metadata": {},
   "outputs": [],
   "source": []
  }
 ],
 "metadata": {
  "kernelspec": {
   "display_name": "Bash",
   "language": "bash",
   "name": "bash"
  }
 },
 "nbformat": 4,
 "nbformat_minor": 4
}
