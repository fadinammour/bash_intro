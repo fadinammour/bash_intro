{
 "cells": [
  {
   "cell_type": "markdown",
   "metadata": {},
   "source": [
    "## Basics\n",
    "\n",
    "### Keyboard and shortcuts\n",
    "\n",
    "Here are a few useful keyboard shortcuts to know before starting\n",
    "> If the shortcuts don't work in the code cell, <a href=\"../terminals/1\">click here</a> to launch a terminal console and try them out. \n",
    "\n",
    "| Keyboard Key                                 | Function                           | Mnemonic        |\n",
    "|:--------------------------------------------:|:-----------------------------------|:----------------|\n",
    "| <kbd>→</kbd> or <kbd>crtl</kbd>+<kbd>f</kbd> | move cursor to the right           | <b>f</b>orward  |\n",
    "| <kbd>←</kbd> or <kbd>crtl</kbd>+<kbd>b</kbd> | move cursor to the left            | <b>f</b>ackward |\n",
    "| <kbd>↑</kbd>                                 | load previous command              |                 |\n",
    "| <kbd>↓</kbd>                                 | load next command or blank line    |                 |\n",
    "| <kbd>ctrl</kbd>+<kbd>a</kbd>                 | set cursor at beginning of line    | a→first letter  |\n",
    "| <kbd>ctrl</kbd>+<kbd>e</kbd>                 | set cursor at beginning of line    | <b>e</b>nd      |\n",
    "| <kbd>ctrl</kbd>+<kbd>u</kbd>                 | delete from cursor to start of line|                 |\n",
    "| <kbd>ctrl</kbd>+<kbd>k</kbd>                 | delete from cursor to end of line  |                 |\n",
    "\n",
    "For an extensive list of shortcuts, [click here](https://kapeli.com/cheat_sheets/Bash_Shortcuts.docset/Contents/Resources/Documents/index).\n",
    "\n",
    "### Command\n",
    "\n",
    "Let's start by typing and running `echo Hello World!`:"
   ]
  },
  {
   "cell_type": "code",
   "execution_count": null,
   "metadata": {},
   "outputs": [],
   "source": []
  },
  {
   "cell_type": "markdown",
   "metadata": {},
   "source": [
    "In the previous line, `echo` is the command and `Hello World!` is its argument. This command prints its argument is the terminal.\n",
    "\n",
    "#### Navigation commands\n",
    "Let's run a listing command by typing `tree .` in the code cell:"
   ]
  },
  {
   "cell_type": "code",
   "execution_count": null,
   "metadata": {},
   "outputs": [],
   "source": []
  },
  {
   "cell_type": "markdown",
   "metadata": {},
   "source": [
    "The output of this command is a tree that represents all the directories and the files contained in the current working directory which indicated by a point `.` at the root of the tree. However to have more info on the current working directory, it is possible to print it by running `pwd` in the terminal:"
   ]
  },
  {
   "cell_type": "code",
   "execution_count": null,
   "metadata": {},
   "outputs": [],
   "source": []
  },
  {
   "cell_type": "markdown",
   "metadata": {},
   "source": [
    "This command <b>P</b>rints <b>W</b>orking <b>D</b>irectory. Now copy and past the previous output `/Users/user/previous/output` and run `cd /Users/user/previous/output/data/molecules` in the terminal:"
   ]
  },
  {
   "cell_type": "code",
   "execution_count": null,
   "metadata": {},
   "outputs": [],
   "source": []
  },
  {
   "cell_type": "markdown",
   "metadata": {},
   "source": [
    "Now use `pwd` and refer to the tree to tell what happened ."
   ]
  },
  {
   "cell_type": "code",
   "execution_count": null,
   "metadata": {},
   "outputs": [],
   "source": []
  },
  {
   "cell_type": "markdown",
   "metadata": {},
   "source": [
    "The command `cd` allows to <b>C</b>hange <b>D</b>irectory. The input of this function is a path. It can either be a relative path defined according to the current working directory which is represented by `.` or an absolute path that starts with `/` which symbols the root. Now try to run the following line in the terminal `cd ..;pwd`: \n",
    "> This line corresponds to two commands `cd ..` and `pwd` separated by `;` that corresponds to the end of a command."
   ]
  },
  {
   "cell_type": "code",
   "execution_count": null,
   "metadata": {},
   "outputs": [],
   "source": []
  },
  {
   "cell_type": "markdown",
   "metadata": {},
   "source": [
    "We can see that we went to the parent directory of `molecules` which `data`. In fact, `..` is the relative path to the parent directory of the current working directory. Finally run `ls .` in the terminal to see the items that are directly contained in the current working directory."
   ]
  },
  {
   "cell_type": "code",
   "execution_count": null,
   "metadata": {},
   "outputs": [],
   "source": []
  },
  {
   "cell_type": "markdown",
   "metadata": {},
   "source": [
    "#### Item Manipulation Commands\n",
    "Let's start by creating a text file by typing `touch myfile.txt`:"
   ]
  },
  {
   "cell_type": "code",
   "execution_count": null,
   "metadata": {},
   "outputs": [],
   "source": []
  },
  {
   "cell_type": "markdown",
   "metadata": {},
   "source": [
    "Now let's list the items in the current working directory with `ls .`:"
   ]
  },
  {
   "cell_type": "code",
   "execution_count": null,
   "metadata": {},
   "outputs": [],
   "source": []
  },
  {
   "cell_type": "markdown",
   "metadata": {},
   "source": [
    "Congratulations! The file was successfully created! Now type `cat myfile.txt` to see what's inside of it:\n",
    "> `cat` can be replaced by `less` to show text, specially when handling long documents. The former will print all the content at once while the latter will print it screen by screen."
   ]
  },
  {
   "cell_type": "code",
   "execution_count": null,
   "metadata": {},
   "outputs": [],
   "source": []
  },
  {
   "cell_type": "markdown",
   "metadata": {},
   "source": [
    "The output is empty and this normal because the text file is empty too. Let's write something in it. Run in the terminal the command `echo The cake is a lie > myfile.txt` then print it using the `cat` command."
   ]
  },
  {
   "cell_type": "code",
   "execution_count": null,
   "metadata": {},
   "outputs": [],
   "source": []
  },
  {
   "cell_type": "markdown",
   "metadata": {},
   "source": [
    "Now run `echo The cake is a lie >> myfile.txt` then print the file. Now run again `echo The cake is a lie > myfile.txt`. What is the difference between `>` and `>>`?"
   ]
  },
  {
   "cell_type": "code",
   "execution_count": null,
   "metadata": {},
   "outputs": [],
   "source": []
  },
  {
   "cell_type": "markdown",
   "metadata": {},
   "source": [
    "Let's create a directory called `mydir` and place `myfile.txt` in it. Run `mkdir ./mydir` to <b>m</b>a<b>k</b>e a <b>dir</b>ectory in the current working directory."
   ]
  },
  {
   "cell_type": "code",
   "execution_count": null,
   "metadata": {},
   "outputs": [],
   "source": []
  },
  {
   "cell_type": "markdown",
   "metadata": {},
   "source": [
    "Using `cp` command, <b>c</b>o<b>p</b>y `myfile.txt` in `mydir`. Check if `mydir` contains the copied file with `ls ./mydir`.\n",
    "> `cp` usage: `cp /path/to/source/file/filename /path/to/destination/file/filename`"
   ]
  },
  {
   "cell_type": "code",
   "execution_count": null,
   "metadata": {},
   "outputs": [],
   "source": []
  },
  {
   "cell_type": "markdown",
   "metadata": {},
   "source": [
    "The `mv` command is to <b>m</b>o<b>v</b>e files. However it can also be used to rename items by moving them to the same folder. Use `mv` to rename `myfile.txt` to `mynewfile.txt`.\n",
    "> `mv` usage: `mv /path/to/source/file/filename /path/to/destination/file/filenewname`"
   ]
  },
  {
   "cell_type": "code",
   "execution_count": null,
   "metadata": {},
   "outputs": [],
   "source": []
  },
  {
   "cell_type": "markdown",
   "metadata": {},
   "source": [
    "Now <b>r</b>e<b>m</b>ove (delete) `mynewfile.txt` using `rm mynewfile.txt` then using the `rm` command, try remove `mydir`. What happened?"
   ]
  },
  {
   "cell_type": "code",
   "execution_count": null,
   "metadata": {},
   "outputs": [],
   "source": []
  },
  {
   "cell_type": "markdown",
   "metadata": {},
   "source": [
    "Since `mydir` is a directory, removing it requires removing all the item inside of it. Run the following command `rm -r ./mydir; ls .`. What happened?"
   ]
  },
  {
   "cell_type": "code",
   "execution_count": null,
   "metadata": {},
   "outputs": [],
   "source": []
  },
  {
   "cell_type": "markdown",
   "metadata": {},
   "source": [
    "This time the directory was successfully removed. However what does `-r` do?\n",
    "Answer: it is an option for the `rm` command and it means that the items will be removed <b>r</b>ecursively. More generally, bash commands can be used with options. Conventionally, options that are made of a single letter are preceded by a dash, e.g. `-o` and options that have more than one letter are preceded by double dash, e.g. `--option`.\n",
    "> Careful, options can be case sensitive!\n",
    "\n",
    "> It is possible to combine single letter options together, e.g. `-O -m -G` is equivalent to `-OmG`."
   ]
  },
  {
   "cell_type": "markdown",
   "metadata": {},
   "source": [
    "#### Great but how do I know what are the available options?\n",
    "\n",
    "There two different ways to do it, you can either use `man commandname` or `info commandname`. Once one of the commands execute, it will print a text that can be scrolled down using <kbd>return</kbd> or exited using <kbd>q</kbd>. Let's try it out with `ls` in the <a href=\"../terminals/1\">terminal</a>. Run `ls -lh`, what does the `-lh` change?"
   ]
  },
  {
   "cell_type": "markdown",
   "metadata": {},
   "source": [
    "<br /><div style=\"text-align: right\"> [Next section →](./pipeline.ipynb) </div>"
   ]
  }
 ],
 "metadata": {
  "kernelspec": {
   "display_name": "Bash",
   "language": "bash",
   "name": "bash"
  },
  "language_info": {
   "codemirror_mode": "shell",
   "file_extension": ".sh",
   "mimetype": "text/x-sh",
   "name": "bash"
  }
 },
 "nbformat": 4,
 "nbformat_minor": 4
}
