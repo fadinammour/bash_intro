{
 "cells": [
  {
   "cell_type": "markdown",
   "metadata": {},
   "source": [
    "## Basics\n",
    "\n",
    "### Keyboard and shortcuts\n",
    "\n",
    "Here are a few useful keyboard shortcuts to know before starting\n",
    "> If the shortcuts don't work in the code cell, <a href=\"../terminals/1\">click here</a> to launch a terminal console and try them out. \n",
    "\n",
    "| Keyboard Key                                 | Function                           | Mnemonic        |\n",
    "|:--------------------------------------------:|:-----------------------------------|:----------------|\n",
    "| <kbd>→</kbd> or <kbd>crtl</kbd>+<kbd>f</kbd> | move cursor to the right           | <b>f</b>orward  |\n",
    "| <kbd>←</kbd> or <kbd>crtl</kbd>+<kbd>b</kbd> | move cursor to the left            | <b>f</b>ackward |\n",
    "| <kbd>↑</kbd>                                 | load previous command              |                 |\n",
    "| <kbd>↓</kbd>                                 | load next command or blank line    |                 |\n",
    "| <kbd>ctrl</kbd>+<kbd>a</kbd>                 | set cursor at beginning of line    | a→first letter  |\n",
    "| <kbd>ctrl</kbd>+<kbd>e</kbd>                 | set cursor at beginning of line    | <b>e</b>nd      |\n",
    "| <kbd>ctrl</kbd>+<kbd>u</kbd>                 | delete from cursor to start of line|                 |\n",
    "| <kbd>ctrl</kbd>+<kbd>k</kbd>                 | delete from cursor to end of line  |                 |\n",
    "\n",
    "For an extensive list of shortcuts, [click here](https://kapeli.com/cheat_sheets/Bash_Shortcuts.docset/Contents/Resources/Documents/index).\n",
    "\n",
    "### Command\n",
    "\n",
    "Let's start by typing and running `echo Hello World!`:"
   ]
  },
  {
   "cell_type": "code",
   "execution_count": 2,
   "metadata": {},
   "outputs": [
    {
     "name": "stdout",
     "output_type": "stream",
     "text": [
      "Hello World!\n"
     ]
    }
   ],
   "source": [
    "echo Hello World!"
   ]
  },
  {
   "cell_type": "markdown",
   "metadata": {},
   "source": [
    "In the previous line, `echo` is the command and `Hello World!` is its argument. This command prints its argument is the terminal. Let's try the listing command by running `ls` in the code cell:"
   ]
  },
  {
   "cell_type": "code",
   "execution_count": 14,
   "metadata": {},
   "outputs": [
    {
     "name": "stdout",
     "output_type": "stream",
     "text": [
      "Dockerfile\t\tadvanced.ipynb\t\tpipeline.ipynb\n",
      "LICENSE\t\t\tbasics.ipynb\t\tscripting.ipynb\n",
      "README.md\t\tdata/\t\t\tvariables.ipynb\n",
      "ack_res.ipynb\t\tintro.ipynb\n"
     ]
    }
   ],
   "source": [
    "ls"
   ]
  },
  {
   "cell_type": "markdown",
   "metadata": {},
   "source": [
    "The output of this command is a list of the file"
   ]
  },
  {
   "cell_type": "markdown",
   "metadata": {},
   "source": [
    "<br /><div style=\"text-align: right\"> [Next section →](./pipeline.ipynb) </div>"
   ]
  }
 ],
 "metadata": {
  "kernelspec": {
   "display_name": "Bash",
   "language": "bash",
   "name": "bash"
  },
  "language_info": {
   "codemirror_mode": "shell",
   "file_extension": ".sh",
   "mimetype": "text/x-sh",
   "name": "bash"
  }
 },
 "nbformat": 4,
 "nbformat_minor": 4
}
