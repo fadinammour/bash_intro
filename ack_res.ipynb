{
 "cells": [
  {
   "cell_type": "markdown",
   "metadata": {},
   "source": [
    "## Acknowledgements\n",
    "This work has been made easier thanks to the valuable help and assistance of [Samuel Farren](https://sfarrens.github.io/) and [François Lanusse](http://www.flanusse.net/).\n",
    "\n",
    "## Resources\n",
    "\n",
    "This tutorial was inspired by the following:\n",
    "1. [The Unix Shell lesson](http://swcarpentry.github.io/shell-novice/) part of the data used in the tutorial was taken from this resource.\n",
    "2. [The Missing Semester of Your CS Education](https://missing.csail.mit.edu/)\n",
    "3. [How to Use Linux Screen](https://linuxize.com/post/how-to-use-linux-screen/)\n",
    "\n",
    "Additionnal material:\n",
    "1. [Bash Reference Manual](https://www.gnu.org/savannah-checkouts/gnu/bash/manual/bash.html)\n",
    "2. [Bash scripting cheatsheet](https://devhints.io/bash)"
   ]
  }
 ],
 "metadata": {
  "kernelspec": {
   "display_name": "Bash",
   "language": "bash",
   "name": "bash"
  },
  "language_info": {
   "codemirror_mode": "shell",
   "file_extension": ".sh",
   "mimetype": "text/x-sh",
   "name": "bash"
  }
 },
 "nbformat": 4,
 "nbformat_minor": 4
}
