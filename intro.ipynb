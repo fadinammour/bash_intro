{
 "cells": [
  {
   "cell_type": "markdown",
   "metadata": {},
   "source": [
    "# Bash and Scripting Tutorial for Researchers\n",
    "\n",
    "The goal of this tutorial is to introduce researchers to bash and scripting. It is a short tutorial that shows major concepts with use cases related to research work.\n",
    "\n",
    "---\n",
    "> Authors: <font color='#f78c40'>[Fadi Nammour](http://www.cosmostat.org/people/fadi-nammour)</font>  \n",
    "> Year: 2020  \n",
    "> Email: [fadi.nammour@cea.fr](mailto:fadi.nammour@cea.fr)\n",
    "\n",
    "## Table of Contents\n",
    "\n",
    "1. Introduction\n",
    "2. [Basics](./basics.ipynb)\n",
    "3. [Pipeline, pipes and filters](./pipeline.ipynb)\n",
    "4. [Bash Scripts](./scripting.ipynb)\n",
    "5. [Variables](./variables.ipynb)\n",
    "6. [Advanced](./advanced.ipynb)\n",
    "7. [Acknowledgements](./advanced.ipynb#acknowledgements)\n",
    "8. [Resources](./advanced.ipynb#resources)\n",
    "\n",
    "## Introduction\n",
    "\n",
    "### Why should I \n",
    "\n",
    "<br /><div style=\"text-align: right\"> [Next section →](./basics.ipynb) </div>\n"
   ]
  }
 ],
 "metadata": {
  "kernelspec": {
   "display_name": "Bash",
   "language": "bash",
   "name": "bash"
  },
  "language_info": {
   "codemirror_mode": "shell",
   "file_extension": ".sh",
   "mimetype": "text/x-sh",
   "name": "bash"
  }
 },
 "nbformat": 4,
 "nbformat_minor": 4
}
