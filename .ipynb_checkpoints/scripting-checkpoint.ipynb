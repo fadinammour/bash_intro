{
 "cells": [
  {
   "cell_type": "markdown",
   "metadata": {},
   "source": [
    "Congratulations! If you managed to reach this point of the tutorial, you've become a bash novice!\n",
    "\n",
    "## Bash Scripts\n",
    "\n",
    "Bash and Python are both interpreted programming languages. We have seen so far how to directly use bash in the interpreter. Now we are going to see how we can write a script then launch it.\n",
    "\n",
    "### Example 1: Writing a simple script\n",
    "\n",
    "Run the following line in the terminal `echo echo Hello World > myscript.sh`:\n",
    "> Note: the extension of a bash script is `.sh`"
   ]
  },
  {
   "cell_type": "code",
   "execution_count": null,
   "metadata": {},
   "outputs": [],
   "source": []
  },
  {
   "cell_type": "markdown",
   "metadata": {},
   "source": [
    "Now you have created a bash script which name is `myscript`. To run, execute the following command in the terminal `bash myscript.sh`:"
   ]
  },
  {
   "cell_type": "code",
   "execution_count": null,
   "metadata": {},
   "outputs": [],
   "source": []
  },
  {
   "cell_type": "markdown",
   "metadata": {},
   "source": [
    "### Example 2: For Loop\n",
    "\n",
    "Here is the general structure of a for loop in bash:\n",
    "\n",
    "```bash\n",
    "for item in list\n",
    "do\n",
    "    operation1;\n",
    "    operation2;\n",
    "    ...\n",
    "    operationN;\n",
    "done```\n",
    "\n",
    "Lists can be items separated by a space, the output of a command such as `ls` or an interval of numbers or letters, e.g. `{2..67}` (this a list of all integers from 2 to 67) and `{c..v}` (this a list of all lowercase letter from c to v).\n",
    "\n",
    "Here `item` is the variable on which the loop iterates. When defining, we just write its name as it is and when we need to access it value we add a `$` prefix like `$item`.\n",
    "\n",
    "Complete the following script such that it counts from 1 to 10, using a for loop when launched:\n",
    "> There a backslach `\\` before the dollar to indicate that this special character will be treated like a normal one."
   ]
  },
  {
   "cell_type": "code",
   "execution_count": null,
   "metadata": {},
   "outputs": [],
   "source": [
    "touch [COMPLETE];\n",
    "echo \"for [COMPLETE] in {1..[COMPLETE];\n",
    "        do echo \\$i;\n",
    "      done\" > count10.txt"
   ]
  },
  {
   "cell_type": "markdown",
   "metadata": {},
   "source": [
    "Now launch the script to test if it works."
   ]
  },
  {
   "cell_type": "code",
   "execution_count": null,
   "metadata": {},
   "outputs": [],
   "source": [
    "bash count10.txt"
   ]
  },
  {
   "cell_type": "markdown",
   "metadata": {},
   "source": [
    "### Example 3: Arguments\n",
    "\n",
    "The scripts that we have written so far don't have any arguments. There are two type of arguments: items and list. In the following two examples, we will see two type of arguments: \n",
    "\n",
    "- Code 1: Count Items in Directory\n",
    "\n",
    "```bash\n",
    "ls $1 | wc -l ```\n",
    "\n",
    "- Code 2: Makes a copy of processed files\n",
    "```bash\n",
    "for file in $@\n",
    "do\n",
    "    cp $file processed\"$file\";\n",
    "done\n",
    "echo Done```\n",
    "\n",
    "Run the cell below to create the script."
   ]
  },
  {
   "cell_type": "code",
   "execution_count": null,
   "metadata": {},
   "outputs": [],
   "source": [
    "touch code1.sh; echo \"ls \\$1 | wc -l\" > code1.sh"
   ]
  },
  {
   "cell_type": "markdown",
   "metadata": {},
   "source": [
    "Execute the script.\n",
    "> Usage: `bash code1.sh dir`"
   ]
  },
  {
   "cell_type": "code",
   "execution_count": null,
   "metadata": {},
   "outputs": [],
   "source": [
    "bash code1.sh ."
   ]
  },
  {
   "cell_type": "markdown",
   "metadata": {},
   "source": [
    "Run the cell below to create the script."
   ]
  },
  {
   "cell_type": "code",
   "execution_count": null,
   "metadata": {},
   "outputs": [],
   "source": [
    "touch code2.sh; echo \"for file in \\$@\n",
    "do\n",
    "    cp \\$file processed\"\\$file\";\n",
    "done\n",
    "echo Done\" > code2.sh"
   ]
  },
  {
   "cell_type": "markdown",
   "metadata": {},
   "source": [
    "Execute the script.\n",
    "> Usage: `bash code2.sh list`"
   ]
  },
  {
   "cell_type": "code",
   "execution_count": null,
   "metadata": {},
   "outputs": [],
   "source": [
    "bash code2.sh $(ls .)"
   ]
  },
  {
   "cell_type": "markdown",
   "metadata": {},
   "source": [
    "Create a script that writes the letters within a range given by the user. The output must go in letters.txt"
   ]
  },
  {
   "cell_type": "markdown",
   "metadata": {},
   "source": [
    "<br /><div style=\"text-align: right\"> [Next section →](./screening.ipynb) </div>"
   ]
  }
 ],
 "metadata": {
  "kernelspec": {
   "display_name": "Bash",
   "language": "bash",
   "name": "bash"
  },
  "language_info": {
   "codemirror_mode": "shell",
   "file_extension": ".sh",
   "mimetype": "text/x-sh",
   "name": "bash"
  }
 },
 "nbformat": 4,
 "nbformat_minor": 4
}
