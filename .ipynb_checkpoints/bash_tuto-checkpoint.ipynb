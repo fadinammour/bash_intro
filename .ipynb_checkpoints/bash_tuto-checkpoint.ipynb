{
 "cells": [
  {
   "cell_type": "markdown",
   "metadata": {},
   "source": [
    "# Bash and Scripting Lite Tutorial\n",
    "\n",
    "The goal of this tutorial is to introduce researchers to bash and scripting. It is a short tutorial that shows major concepts with use cases related to research work.\n",
    "\n",
    "## Table of Contents\n",
    "1. [Introduction](#indtroduction)\n",
    "2. [Basics](#basics)\n",
    "3. [Pipeline, pipes and filters](#pipeline,\\x20pipes\\x20and\\x20filters)\n",
    "4. [Bash Scripts](#bash\\x20scripts)\n",
    "5. [Variables](#variables)\n",
    "6. [Advanced](#advanced)\n",
    "7. [Acknowledgements](#acknowledgement)\n",
    "8. [Resources](#resources)\n",
    "\n",
    "## Introduction\n",
    "\n",
    "## I. Basics\n",
    "\n",
    "## II. Pipeline, Pipes and Filters\n",
    "\n",
    "## III. Bash Scripts\n",
    "\n",
    "## IV. Variables\n",
    "\n",
    "## V. Advanced\n",
    "\n",
    "### 1. Aliases\n",
    "### 2. Bash Profile\n",
    "### 3. Screening\n",
    "### 4. SSH Port Forwarding for Distant Jupyter Notebooks\n",
    "\n",
    "## Acknowledgements\n",
    "\n",
    "## Resources"
   ]
  },
  {
   "cell_type": "code",
   "execution_count": null,
   "metadata": {},
   "outputs": [],
   "source": []
  }
 ],
 "metadata": {
  "kernelspec": {
   "display_name": "Bash",
   "language": "bash",
   "name": "bash"
  },
  "language_info": {
   "codemirror_mode": "shell",
   "file_extension": ".sh",
   "mimetype": "text/x-sh",
   "name": "bash"
  }
 },
 "nbformat": 4,
 "nbformat_minor": 4
}
