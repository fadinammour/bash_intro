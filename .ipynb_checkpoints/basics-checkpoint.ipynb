{
 "cells": [
  {
   "cell_type": "markdown",
   "metadata": {},
   "source": [
    "## Basics\n",
    "\n",
    "### Keyboard and shortcuts\n",
    "\n",
    "Here are a few useful keyboard shortcuts to know before starting\n",
    "> If the shortcuts don't work in the code cell, <a href=\"../terminals/1\">click here</a> to launch a terminal console and try them out. \n",
    "\n",
    "| Keyboard Key                                 | Function                           | Mnemonic        |\n",
    "|:--------------------------------------------:|:-----------------------------------|:----------------|\n",
    "| <kbd>→</kbd> or <kbd>crtl</kbd>+<kbd>f</kbd> | move cursor to the right           | <b>f</b>orward  |\n",
    "| <kbd>←</kbd> or <kbd>crtl</kbd>+<kbd>b</kbd> | move cursor to the left            | <b>f</b>ackward |\n",
    "| <kbd>↑</kbd>                                 | load previous command              |                 |\n",
    "| <kbd>↓</kbd>                                 | load next command or blank line    |                 |\n",
    "| <kbd>ctrl</kbd>+<kbd>a</kbd>                 | set cursor at beginning of line    | a→first letter  |\n",
    "| <kbd>ctrl</kbd>+<kbd>e</kbd>                 | set cursor at beginning of line    | <b>e</b>nd      |\n",
    "| <kbd>ctrl</kbd>+<kbd>u</kbd>                 | delete from cursor to start of line|                 |\n",
    "| <kbd>ctrl</kbd>+<kbd>k</kbd>                 | delete from cursor to end of line  |                 |\n",
    "\n",
    "For an extensive list of shortcuts, [click here](https://kapeli.com/cheat_sheets/Bash_Shortcuts.docset/Contents/Resources/Documents/index).\n",
    "\n",
    "### Command\n",
    "\n",
    "Let's start by typing and running `echo Hello World!`:"
   ]
  },
  {
   "cell_type": "code",
   "execution_count": 2,
   "metadata": {},
   "outputs": [
    {
     "name": "stdout",
     "output_type": "stream",
     "text": [
      "Hello World!\n"
     ]
    }
   ],
   "source": [
    "echo Hello World!"
   ]
  },
  {
   "cell_type": "markdown",
   "metadata": {},
   "source": [
    "In the previous line, `echo` is the command and `Hello World!` is its argument. This command print its argument is the terminal."
   ]
  },
  {
   "cell_type": "code",
   "execution_count": 4,
   "metadata": {},
   "outputs": [
    {
     "name": "stdout",
     "output_type": "stream",
     "text": [
      "\n",
      "ECHO(1)                   BSD General Commands Manual                  ECHO(1)\n",
      "\n",
      "NAME\n",
      "     echo -- write arguments to the standard output\n",
      "\n",
      "SYNOPSIS\n",
      "     echo [-n] [string ...]\n",
      "\n",
      "DESCRIPTION\n",
      "     The echo utility writes any specified operands, separated by single blank\n",
      "     (` ') characters and followed by a newline (`\\n') character, to the stan-\n",
      "     dard output.\n",
      "\n",
      "     The following option is available:\n",
      "\n",
      "     -n    Do not print the trailing newline character.  This may also be\n",
      "           achieved by appending `\\c' to the end of the string, as is done by\n",
      "           iBCS2 compatible systems.  Note that this option as well as the\n",
      "           effect of `\\c' are implementation-defined in IEEE Std 1003.1-2001\n",
      "           (``POSIX.1'') as amended by Cor. 1-2002.  Applications aiming for\n",
      "           maximum portability are strongly encouraged to use printf(1) to\n",
      "           suppress the newline character.\n",
      "\n",
      "     Some shells may provide a builtin echo command which is similar or iden-\n",
      "     tical to this utility.  Most notably, the builtin echo in sh(1) does not\n",
      "     accept the -n option.  Consult the builtin(1) manual page.\n",
      "\n",
      "EXIT STATUS\n",
      "     The echo utility exits 0 on success, and >0 if an error occurs.\n",
      "\n",
      "SEE ALSO\n",
      "     builtin(1), csh(1), printf(1), sh(1)\n",
      "\n",
      "STANDARDS\n",
      "     The echo utility conforms to IEEE Std 1003.1-2001 (``POSIX.1'') as\n",
      "     amended by Cor. 1-2002.\n",
      "\n",
      "BSD                             April 12, 2003                             BSD\n"
     ]
    }
   ],
   "source": [
    "man echo"
   ]
  },
  {
   "cell_type": "markdown",
   "metadata": {},
   "source": [
    "<br /><div style=\"text-align: right\"> [Next section →](./pipeline.ipynb) </div>"
   ]
  }
 ],
 "metadata": {
  "kernelspec": {
   "display_name": "Bash",
   "language": "bash",
   "name": "bash"
  },
  "language_info": {
   "codemirror_mode": "shell",
   "file_extension": ".sh",
   "mimetype": "text/x-sh",
   "name": "bash"
  }
 },
 "nbformat": 4,
 "nbformat_minor": 4
}
